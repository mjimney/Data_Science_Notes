{
 "cells": [
  {
   "cell_type": "markdown",
   "metadata": {},
   "source": [
    "## Contents\n",
    "\n",
    "### [1.0 Basics](#1.0)\n",
    "- [1.1 Basic Objects](#1.1)\n",
    "- [1.2 Variables](#1.2)\n",
    "- [1.3 Basic Math](#1.3)\n",
    "- [1.4 Comparison Operators](#1.4)\n",
    "- [1.5 Boolean Operators](#1.5)\n",
    "- [1.6 Strings](#1.6)\n",
    "- [1.7 Concatenating](#1.7)\n",
    "- [1.8 Lists](#1.8)\n",
    "- [1.9 Tuples](#1.9)\n",
    "- [1.10 Dictionaries](#1.10)\n",
    "\n",
    "### [2.0 Data Types](#2.0)\n",
    "- [2.1 if Statement](#2.1)\n",
    "- [2.2 if ... else Statement](#2.2)\n",
    "- [2.3 if ... elif ... else Statement](#2.3)\n",
    "\n",
    "### [2.0 Conditional Statements](#2.0)\n",
    "- [2.1 if Statement](#2.1)\n",
    "- [2.2 if ... else Statement](#2.2)\n",
    "- [2.3 if ... elif ... else Statement](#2.3)\n",
    "### [3.0 Loops](#3.0)\n",
    "- [3.1 For Loops](#3.1)\n",
    "- [3.2 while Loops](#3.2)\n",
    "\n",
    "### [4.0 Error Handling](#4.0)\n",
    "- [4.1 try / except](#4.1)\n",
    "\n",
    "### [5.0 Functions](#5.0)\n",
    "\n",
    "### [6.0 Datetime](#6.0)\n",
    "\n",
    "### [Appendix]()\n",
    "- [A1 Keywords]"
   ]
  },
  {
   "cell_type": "markdown",
   "metadata": {},
   "source": [
    "<a id='1.0'></a>\n",
    "# 1.0 Python Basics"
   ]
  },
  {
   "cell_type": "markdown",
   "metadata": {},
   "source": [
    "<a id='1.1'></a>\n",
    "## 1.1 Basic Objects\n",
    "\n",
    "- int, used to represent integers, e.g., 2, 5, or 100.\n",
    "- float, used to represent real numbers, e.g, 2.75, 3.14.\n",
    "- bool, used to represent Boolean values True and False."
   ]
  },
  {
   "cell_type": "code",
   "execution_count": 205,
   "metadata": {},
   "outputs": [
    {
     "name": "stdout",
     "output_type": "stream",
     "text": [
      "<class 'int'>\n",
      "<class 'float'>\n",
      "<class 'bool'>\n"
     ]
    }
   ],
   "source": [
    "print (type(1))\n",
    "print (type(1.0))\n",
    "print (type(True))"
   ]
  },
  {
   "cell_type": "code",
   "execution_count": 206,
   "metadata": {},
   "outputs": [
    {
     "name": "stdout",
     "output_type": "stream",
     "text": [
      "<class 'float'>\n",
      "<class 'int'>\n"
     ]
    }
   ],
   "source": [
    "print (type(float(1)))\n",
    "print (type(int(1.0)))"
   ]
  },
  {
   "cell_type": "markdown",
   "metadata": {},
   "source": [
    "<a id='1.2'></a>\n",
    "## 1.2 Variables\n",
    "\n",
    "Variables are names that have been assigned to specific values or data. These names can be almost anything you want, but there are some restrictions and best practices.\n",
    "\n",
    "**Restrictions**\n",
    "- The name of a variable cannot start with a number.\n",
    "- The name of a variable cannot contain some special characters like `.`, `$`, `%`, `+`, `&`, etc.\n",
    "- Variables cannot be assigned the same name as a default or imported function (i.e., `type`, `print`, `for`).\n",
    "- Variable names cannot contain spaces.\n",
    "\n",
    "**Best Practices**\n",
    "- Variable names should be lowercase.\n",
    "- A variable's name should be representative of the value(s) it has been assigned.\n",
    "- If you must use multiple words in your variable name, use an underscore to separate them."
   ]
  },
  {
   "cell_type": "code",
   "execution_count": 207,
   "metadata": {},
   "outputs": [
    {
     "name": "stdout",
     "output_type": "stream",
     "text": [
      "<class 'float'>\n",
      "<class 'int'>\n",
      "<class 'str'>\n"
     ]
    }
   ],
   "source": [
    "# Assigning a float:\n",
    "x = 1.0\n",
    "print (type(x))\n",
    "\n",
    "# Assigning an int:\n",
    "y = 1\n",
    "print (type(y))\n",
    "\n",
    "# Assigning a string:\n",
    "z = '1'\n",
    "print (type(z))"
   ]
  },
  {
   "cell_type": "code",
   "execution_count": 234,
   "metadata": {},
   "outputs": [
    {
     "name": "stdout",
     "output_type": "stream",
     "text": [
      "The value of x is 10.5\n",
      "The value of x is hello world!\n"
     ]
    }
   ],
   "source": [
    "x = 10.5\n",
    "print ('The value of x is', x)\n",
    "x = 'hello world!'\n",
    "print ('The value of x is', x)"
   ]
  },
  {
   "cell_type": "code",
   "execution_count": 209,
   "metadata": {},
   "outputs": [
    {
     "name": "stdout",
     "output_type": "stream",
     "text": [
      "type your name:  Mike\n",
      "Mike\n"
     ]
    }
   ],
   "source": [
    "# Assign value with 'input', formarly called raw_input\n",
    "\n",
    "name = input('type your name:  ')\n",
    "print (name)"
   ]
  },
  {
   "cell_type": "markdown",
   "metadata": {},
   "source": [
    "<a id='1.3'></a>\n",
    "## 1.3 Basic Math\n",
    "\n",
    "- **`+`**  Exponentiation\n",
    "- **`-`**  Subtraction\n",
    "- __`*`__  Multiplication\n",
    "- __`**`__  Exponentiation\n",
    "- **`/`** Division (float)\n",
    "- **`//`** Division (floor)\n",
    "- **`%`** Modulo, returns the remainder when one integer is divided by another"
   ]
  },
  {
   "cell_type": "code",
   "execution_count": 215,
   "metadata": {},
   "outputs": [
    {
     "name": "stdout",
     "output_type": "stream",
     "text": [
      "5 + 2 = 7\n",
      "5 - 2 = 3\n",
      "5 * 2 = -10\n",
      "5 ** 2 = 25\n"
     ]
    }
   ],
   "source": [
    "print ('5 + 2 =', 5 + 2)   # Addition\n",
    "print ('5 - 2 =', 5 - 2)   # Subtraction\n",
    "print ('5 * 2 =', 5 * -2)  # Multiplication\n",
    "print ('5 ** 2 =', 5 ** 2) # Exponentiation"
   ]
  },
  {
   "cell_type": "code",
   "execution_count": 220,
   "metadata": {},
   "outputs": [
    {
     "name": "stdout",
     "output_type": "stream",
     "text": [
      "5 / 2 = 2.5\n",
      "5 // 2 = 2\n",
      "-5 // 2 = -3\n",
      "5 % 2 = 1\n"
     ]
    }
   ],
   "source": [
    "print ('5 / 2 =', 5 / 2)    # Division (float)\n",
    "print ('5 // 2 =', 5 // 2)  # Division (floor)\n",
    "print ('-5 // 2 =', -5 // 2) # Division (floor) - with negative number\n",
    "print ('5 % 2 =', 5 % 2)    # Modulo"
   ]
  },
  {
   "cell_type": "markdown",
   "metadata": {},
   "source": [
    "Scientific notation in python. For example, 1.5e5 denotes the value 1.5× 10<sup>5</sup>"
   ]
  },
  {
   "cell_type": "code",
   "execution_count": 204,
   "metadata": {},
   "outputs": [
    {
     "data": {
      "text/plain": [
       "150000.0"
      ]
     },
     "execution_count": 204,
     "metadata": {},
     "output_type": "execute_result"
    }
   ],
   "source": [
    "1.5e5"
   ]
  },
  {
   "cell_type": "markdown",
   "metadata": {},
   "source": [
    "<a id='1.4'></a>\n",
    "## 1.4 Functions"
   ]
  },
  {
   "cell_type": "code",
   "execution_count": 235,
   "metadata": {},
   "outputs": [
    {
     "name": "stdout",
     "output_type": "stream",
     "text": [
      "16\n"
     ]
    }
   ],
   "source": [
    "def square(x):\n",
    "    return x**2\n",
    "\n",
    "print (square(4))"
   ]
  },
  {
   "cell_type": "code",
   "execution_count": 236,
   "metadata": {},
   "outputs": [
    {
     "name": "stdout",
     "output_type": "stream",
     "text": [
      "5\n",
      "-30\n"
     ]
    }
   ],
   "source": [
    "def polynomial(x, a, b=0, c=0, d=0):\n",
    "    result = a + b * x**1 + c * x**2 + d * x**3\n",
    "    return result\n",
    "\n",
    "print (polynomial(1, 2, 3))\n",
    "print (polynomial(2, 2, d=-4))"
   ]
  },
  {
   "cell_type": "markdown",
   "metadata": {},
   "source": [
    "<a id='1.5'></a>\n",
    "## 1.5 Comparison Operators\n",
    "\n",
    "**Comparison Operators**\n",
    "\n",
    "- Less than: **`<`**\n",
    "- Greater than: **`>`**\n",
    "- Less than or equal to: **`<=`**\n",
    "- Greater than or equal to: **`<=`**\n",
    "- Equals: **`==`**\n",
    "- Does not equal: **`!=`**"
   ]
  },
  {
   "cell_type": "code",
   "execution_count": 224,
   "metadata": {},
   "outputs": [
    {
     "name": "stdout",
     "output_type": "stream",
     "text": [
      "False\n",
      "False\n",
      "True\n",
      "True\n",
      "True\n",
      "False\n"
     ]
    }
   ],
   "source": [
    "print (1 > 1)\n",
    "print (1 < 1)\n",
    "print (1 >= 1)\n",
    "print (1 <= 1)\n",
    "print (1 == 1)\n",
    "print (1 != 1)"
   ]
  },
  {
   "cell_type": "code",
   "execution_count": 222,
   "metadata": {},
   "outputs": [
    {
     "name": "stdout",
     "output_type": "stream",
     "text": [
      "True\n",
      "True\n"
     ]
    }
   ],
   "source": [
    "print ([1,2] == [1,2])\n",
    "print ([1,2] != [2,1])"
   ]
  },
  {
   "cell_type": "markdown",
   "metadata": {},
   "source": [
    "<a id='1.5'></a>\n",
    "## 1.5 Boolean Operators"
   ]
  },
  {
   "cell_type": "code",
   "execution_count": 64,
   "metadata": {},
   "outputs": [
    {
     "name": "stdout",
     "output_type": "stream",
     "text": [
      "True\n",
      "True\n",
      "False\n"
     ]
    }
   ],
   "source": [
    "print (True and True)\n",
    "print (True or  False)\n",
    "print (not True)"
   ]
  },
  {
   "cell_type": "markdown",
   "metadata": {},
   "source": [
    "# 2.0 Data Types"
   ]
  },
  {
   "cell_type": "markdown",
   "metadata": {},
   "source": [
    "## 2.1 Strings"
   ]
  },
  {
   "cell_type": "code",
   "execution_count": 65,
   "metadata": {},
   "outputs": [
    {
     "data": {
      "text/plain": [
       "str"
      ]
     },
     "execution_count": 65,
     "metadata": {},
     "output_type": "execute_result"
    }
   ],
   "source": [
    "type('1324')"
   ]
  },
  {
   "cell_type": "code",
   "execution_count": 67,
   "metadata": {},
   "outputs": [
    {
     "name": "stdout",
     "output_type": "stream",
     "text": [
      "1234\n",
      "1234.0\n",
      "True\n"
     ]
    }
   ],
   "source": [
    "print (str(1234))   # convert int to string\n",
    "print (str(1234.0)) # convert float to string\n",
    "print (str(True))   # convert bool to string"
   ]
  },
  {
   "cell_type": "code",
   "execution_count": 226,
   "metadata": {},
   "outputs": [
    {
     "data": {
      "text/plain": [
       "11"
      ]
     },
     "execution_count": 226,
     "metadata": {},
     "output_type": "execute_result"
    }
   ],
   "source": [
    "# Length of the string:\n",
    "len('Hello world')"
   ]
  },
  {
   "cell_type": "code",
   "execution_count": 227,
   "metadata": {},
   "outputs": [
    {
     "name": "stdout",
     "output_type": "stream",
     "text": [
      "Hello test\n"
     ]
    }
   ],
   "source": [
    "# Replace an element of a string\n",
    "s = 'Hello world'\n",
    "s2 = s.replace('world', 'test')\n",
    "print(s2)"
   ]
  },
  {
   "cell_type": "code",
   "execution_count": 228,
   "metadata": {},
   "outputs": [
    {
     "name": "stdout",
     "output_type": "stream",
     "text": [
      "this is test text\n",
      "THIS IS TEST TEXT\n",
      "This Is Test Text\n"
     ]
    }
   ],
   "source": [
    "# Change case\n",
    "s3 = 'THis IS teST tExT'\n",
    "print (s3.lower()) #all lower case\n",
    "print (s3.upper()) #all upper case\n",
    "print (s3.title()) #capitalize first letter, rest lower case"
   ]
  },
  {
   "cell_type": "markdown",
   "metadata": {},
   "source": [
    "**Operators on strings**"
   ]
  },
  {
   "cell_type": "markdown",
   "metadata": {},
   "source": [
    "`∗` and `+` works for strings."
   ]
  },
  {
   "cell_type": "code",
   "execution_count": 233,
   "metadata": {},
   "outputs": [
    {
     "name": "stdout",
     "output_type": "stream",
     "text": [
      "aaa\n",
      "abc\n",
      "a123\n"
     ]
    }
   ],
   "source": [
    "# repeat 'a' 3 times\n",
    "print (3 * 'a') \n",
    "\n",
    "# join 'a', 'b' and 'c'\n",
    "print ('a' + 'b' + 'c') \n",
    "\n",
    "# convert and join\n",
    "print ('a' + str(123)) "
   ]
  },
  {
   "cell_type": "code",
   "execution_count": 232,
   "metadata": {},
   "outputs": [
    {
     "name": "stdout",
     "output_type": "stream",
     "text": [
      "1: H\n",
      "2: Hel\n",
      "3: world\n",
      "4: Hello world\n",
      "5: d\n",
      "6: Hlowrd\n"
     ]
    }
   ],
   "source": [
    "# String Indexing\n",
    "s = 'Hello world'\n",
    "\n",
    "# 1. Indexing the first (index 0) character in the string:\n",
    "print('1: ' + s[0])\n",
    "\n",
    "# 2. Objects at indexes 0, 1, and 2\n",
    "print ('2: ' + s[0:3])\n",
    "\n",
    "# 3. From index 6 up to the end of the string:\n",
    "print ('3: ' + s[6:])\n",
    "\n",
    "# 4. No start or end specified:\n",
    "print ('4: ' + s[:])\n",
    "\n",
    "# 5. Index from the right side\n",
    "print ('5: ' + s[-1])\n",
    "\n",
    "# 6. Define a step size of 2, i.e., every other character:\n",
    "print ('6: ' + s[::2])"
   ]
  },
  {
   "cell_type": "code",
   "execution_count": 229,
   "metadata": {},
   "outputs": [
    {
     "name": "stdout",
     "output_type": "stream",
     "text": [
      "This isn't flying, this is falling in style!\n",
      "\n",
      "Line One\n",
      "Line Two\n",
      "\n",
      "A list:\n",
      "\t- Bullet 1\n",
      "\t- Bullet 2\n",
      "\t\t- Bullet 3\n"
     ]
    }
   ],
   "source": [
    "# Exit character, use '\\' ahead of ' to not mess up text\n",
    "print ('This isn\\'t flying, this is falling in style!')\n",
    "print ()\n",
    "\n",
    "# Use \\n for new line\n",
    "print ('Line One\\nLine Two')\n",
    "print ()\n",
    "\n",
    "# Use \\t to tab in\n",
    "print ('A list:\\n\\t- Bullet 1\\n\\t- Bullet 2\\n\\t\\t- Bullet 3')"
   ]
  },
  {
   "cell_type": "code",
   "execution_count": 230,
   "metadata": {},
   "outputs": [
    {
     "name": "stdout",
     "output_type": "stream",
     "text": [
      "True\n"
     ]
    }
   ],
   "source": [
    "# Check if text ends with a string\n",
    "x = 'Homer Simpson'\n",
    "print (x.endswith('Simpson'))"
   ]
  },
  {
   "cell_type": "code",
   "execution_count": 231,
   "metadata": {},
   "outputs": [
    {
     "name": "stdout",
     "output_type": "stream",
     "text": [
      "True\n",
      "False\n",
      "False\n"
     ]
    }
   ],
   "source": [
    "# Check if string is only letters with isalpha().  Similar option with isalnum()\n",
    "x = 'text'\n",
    "y = 'text with spaces'\n",
    "z = 'numbers12345'\n",
    "\n",
    "print (x.isalpha())\n",
    "print (y.isalpha())\n",
    "print (z.isalpha())"
   ]
  },
  {
   "cell_type": "code",
   "execution_count": null,
   "metadata": {},
   "outputs": [],
   "source": []
  },
  {
   "cell_type": "code",
   "execution_count": null,
   "metadata": {},
   "outputs": [],
   "source": []
  },
  {
   "cell_type": "code",
   "execution_count": null,
   "metadata": {},
   "outputs": [],
   "source": []
  },
  {
   "cell_type": "code",
   "execution_count": null,
   "metadata": {},
   "outputs": [],
   "source": []
  },
  {
   "cell_type": "markdown",
   "metadata": {},
   "source": [
    "# Print Format"
   ]
  },
  {
   "cell_type": "markdown",
   "metadata": {},
   "source": [
    "Here, %s, %i, %f are formatters, Python will take the variable on the right and put it in to replace the %s, %i or %f with its value.\n",
    "\n",
    "- %s is used for strings\n",
    "- %i or %d are used for integers\n",
    "- %f is used for float numbers, can indicate 2 decimal points with %.2f\n"
   ]
  },
  {
   "cell_type": "code",
   "execution_count": 56,
   "metadata": {},
   "outputs": [
    {
     "name": "stdout",
     "output_type": "stream",
     "text": [
      "hello world!\n",
      "hello world!\n"
     ]
    }
   ],
   "source": [
    "print ('hello world!')\n",
    "print ('hello %s!' %'world')"
   ]
  },
  {
   "cell_type": "code",
   "execution_count": 57,
   "metadata": {},
   "outputs": [
    {
     "name": "stdout",
     "output_type": "stream",
     "text": [
      "hello, 2015!\n",
      "hello, 2015.000000!\n",
      "hello, 2015.00!\n"
     ]
    }
   ],
   "source": [
    "print ('hello, %i!' %2015)\n",
    "print ('hello, %f!' %2015)\n",
    "print ('hello, %.2f!' %2015)"
   ]
  },
  {
   "cell_type": "code",
   "execution_count": 58,
   "metadata": {},
   "outputs": [
    {
     "name": "stdout",
     "output_type": "stream",
     "text": [
      "5 ** 2 = 25\n",
      "5 / 2 = 2.50\n",
      "5 // 2 = 2.00\n",
      "5 % 2 = 1.00\n"
     ]
    }
   ],
   "source": [
    "print ('5 ** 2 = %i' % (5 ** 2))\n",
    "print ('5 / 2 = %.2f' % (5 / 2))\n",
    "print ('5 // 2 = %.2f' % (5 // 2))\n",
    "print ('5 %% 2 = %.2f' % (5 % 2))"
   ]
  },
  {
   "cell_type": "markdown",
   "metadata": {},
   "source": [
    "# Data Structures"
   ]
  },
  {
   "cell_type": "markdown",
   "metadata": {},
   "source": [
    "## lists"
   ]
  },
  {
   "cell_type": "code",
   "execution_count": 151,
   "metadata": {},
   "outputs": [
    {
     "name": "stdout",
     "output_type": "stream",
     "text": [
      "[1, 1, 2, 3, 5, 8, 13, 21]\n",
      "['a', 'b', 'c', 'd']\n",
      "['a', 1, 'b', 2, 'c', 3, True, False]\n",
      "[[1, 1, 2, 3, 5, 8, 13, 21], ['a', 'b', 'c', 'd'], ['a', 1, 'b', 2, 'c', 3, True, False]]\n"
     ]
    }
   ],
   "source": [
    "fibonacci_numbers = [1, 1, 2, 3, 5, 8, 13, 21]\n",
    "strings = ['a', 'b', 'c', 'd']\n",
    "num_str_bool = ['a', 1, 'b', 2, 'c', 3, True, False]\n",
    "list_of_lists = [fibonacci_numbers, strings, num_str_bool]\n",
    "\n",
    "print (fibonacci_numbers)\n",
    "print (strings)\n",
    "print (num_str_bool)\n",
    "print (list_of_lists)"
   ]
  },
  {
   "cell_type": "markdown",
   "metadata": {},
   "source": [
    "## Indexing and Slicing"
   ]
  },
  {
   "cell_type": "code",
   "execution_count": 153,
   "metadata": {},
   "outputs": [
    {
     "name": "stdout",
     "output_type": "stream",
     "text": [
      "1\n",
      "3\n",
      "[1, 1, 2]\n",
      "[3, 5, 8, 13, 21]\n"
     ]
    }
   ],
   "source": [
    "print (fibonacci_numbers[0]) # the first element\n",
    "print (fibonacci_numbers[3]) # the fourth element\n",
    "print (fibonacci_numbers[0:3]) #slicing\n",
    "print (fibonacci_numbers[3:]) #slicing"
   ]
  },
  {
   "cell_type": "markdown",
   "metadata": {},
   "source": [
    "## Searching and Appending"
   ]
  },
  {
   "cell_type": "code",
   "execution_count": 154,
   "metadata": {},
   "outputs": [
    {
     "data": {
      "text/plain": [
       "5"
      ]
     },
     "execution_count": 154,
     "metadata": {},
     "output_type": "execute_result"
    }
   ],
   "source": [
    "fibonacci_numbers.index(8) #searching, the index whose values is 8"
   ]
  },
  {
   "cell_type": "code",
   "execution_count": 155,
   "metadata": {},
   "outputs": [
    {
     "data": {
      "text/plain": [
       "[1, 1, 2, 3, 5, 8, 13, 21, 34]"
      ]
     },
     "execution_count": 155,
     "metadata": {},
     "output_type": "execute_result"
    }
   ],
   "source": [
    "fibonacci_numbers.append(34) # add one more element\n",
    "fibonacci_numbers"
   ]
  },
  {
   "cell_type": "markdown",
   "metadata": {},
   "source": [
    "## List comprehension"
   ]
  },
  {
   "cell_type": "code",
   "execution_count": 199,
   "metadata": {},
   "outputs": [
    {
     "data": {
      "text/plain": [
       "[2, 2, 3, 4, 6, 9, 14, 22, 35]"
      ]
     },
     "execution_count": 199,
     "metadata": {},
     "output_type": "execute_result"
    }
   ],
   "source": [
    "# add 1 to each number\n",
    "\n",
    "new_list = [i + 1 for i in fibonacci_numbers]\n",
    "new_list"
   ]
  },
  {
   "cell_type": "code",
   "execution_count": 200,
   "metadata": {},
   "outputs": [
    {
     "data": {
      "text/plain": [
       "[3, 9, 35]"
      ]
     },
     "execution_count": 200,
     "metadata": {},
     "output_type": "execute_result"
    }
   ],
   "source": [
    "# for only even numbers add 1\n",
    "\n",
    "[i + 1 for i in fibonacci_numbers if i % 2 == 0]"
   ]
  },
  {
   "cell_type": "code",
   "execution_count": 196,
   "metadata": {},
   "outputs": [
    {
     "data": {
      "text/plain": [
       "[100, 126, 154]"
      ]
     },
     "execution_count": 196,
     "metadata": {},
     "output_type": "execute_result"
    }
   ],
   "source": [
    "# list of length 3, stepping through each range at the same time\n",
    "\n",
    "[i * j for i,j in zip(range(5,8),range(20,23))]"
   ]
  },
  {
   "cell_type": "code",
   "execution_count": 197,
   "metadata": {},
   "outputs": [
    {
     "data": {
      "text/plain": [
       "[100, 105, 110, 120, 126, 132, 140, 147, 154]"
      ]
     },
     "execution_count": 197,
     "metadata": {},
     "output_type": "execute_result"
    }
   ],
   "source": [
    "# list of length 9, stepping through each combination of i and j (for loop in a for loop)\n",
    "\n",
    "[i * j for i in range(5,8) for j in range(20,23)]"
   ]
  },
  {
   "cell_type": "code",
   "execution_count": 183,
   "metadata": {},
   "outputs": [
    {
     "data": {
      "text/plain": [
       "10"
      ]
     },
     "execution_count": 183,
     "metadata": {},
     "output_type": "execute_result"
    }
   ],
   "source": [
    "len(range(6,6+size))"
   ]
  },
  {
   "cell_type": "markdown",
   "metadata": {},
   "source": [
    "## tuple\n",
    "Tuples are similar to lists in many ways, except they **can't be modified once you've created them.**\n",
    "\n",
    "Tuples are defined between two parentheses instead of brackets."
   ]
  },
  {
   "cell_type": "code",
   "execution_count": 159,
   "metadata": {},
   "outputs": [
    {
     "data": {
      "text/plain": [
       "(1, 1, 2, 3, 5, 8, 13, 21)"
      ]
     },
     "execution_count": 159,
     "metadata": {},
     "output_type": "execute_result"
    }
   ],
   "source": [
    "fib_numbers = (1, 1, 2, 3, 5, 8, 13, 21)\n",
    "fib_numbers"
   ]
  },
  {
   "cell_type": "code",
   "execution_count": 160,
   "metadata": {},
   "outputs": [
    {
     "data": {
      "text/plain": [
       "1"
      ]
     },
     "execution_count": 160,
     "metadata": {},
     "output_type": "execute_result"
    }
   ],
   "source": [
    "fib_numbers[1] # indexing "
   ]
  },
  {
   "cell_type": "code",
   "execution_count": 161,
   "metadata": {},
   "outputs": [
    {
     "data": {
      "text/plain": [
       "(1, 2, 3, 5)"
      ]
     },
     "execution_count": 161,
     "metadata": {},
     "output_type": "execute_result"
    }
   ],
   "source": [
    "fib_numbers[1:5] # slicing"
   ]
  },
  {
   "cell_type": "code",
   "execution_count": 162,
   "metadata": {},
   "outputs": [
    {
     "data": {
      "text/plain": [
       "5"
      ]
     },
     "execution_count": 162,
     "metadata": {},
     "output_type": "execute_result"
    }
   ],
   "source": [
    "fib_numbers.index(8) # searching"
   ]
  },
  {
   "cell_type": "markdown",
   "metadata": {},
   "source": [
    "## set\n",
    "A set is an unordered sequence of unique values. Members of a set must be hashable."
   ]
  },
  {
   "cell_type": "code",
   "execution_count": 163,
   "metadata": {},
   "outputs": [
    {
     "data": {
      "text/plain": [
       "True"
      ]
     },
     "execution_count": 163,
     "metadata": {},
     "output_type": "execute_result"
    }
   ],
   "source": [
    "set1 = {1, 2, 3}\n",
    "set2 = {2, 3, 1}\n",
    "set1 == set2"
   ]
  },
  {
   "cell_type": "code",
   "execution_count": 166,
   "metadata": {},
   "outputs": [
    {
     "data": {
      "text/plain": [
       "{1, 2, 3}"
      ]
     },
     "execution_count": 166,
     "metadata": {},
     "output_type": "execute_result"
    }
   ],
   "source": [
    "# Note that the duplicated elements are automatically removed.\n",
    "\n",
    "set3 = {1, 1, 2, 2, 3, 3, 3, 3, 3}\n",
    "set3"
   ]
  },
  {
   "cell_type": "markdown",
   "metadata": {},
   "source": [
    "## Operations on sets\n",
    "- **difference:** Elements of the first set that are in the 2nd set\n",
    "- **intersection:** Elements in both sets\n",
    "- **union:** Elements that are in either set"
   ]
  },
  {
   "cell_type": "code",
   "execution_count": 167,
   "metadata": {},
   "outputs": [],
   "source": [
    "evens = {0, 2, 4, 6, 8, 10, 12}\n",
    "integers = {0, 1, 1, 2, 3, 4, 5, 5, 5, 6, 7, 8, 9, 9, 8, 19}"
   ]
  },
  {
   "cell_type": "markdown",
   "metadata": {},
   "source": [
    "The elements that appears in evens and not in integers."
   ]
  },
  {
   "cell_type": "code",
   "execution_count": 168,
   "metadata": {},
   "outputs": [
    {
     "data": {
      "text/plain": [
       "{10, 12}"
      ]
     },
     "execution_count": 168,
     "metadata": {},
     "output_type": "execute_result"
    }
   ],
   "source": [
    "evens.difference(integers) # same as: evens - integers "
   ]
  },
  {
   "cell_type": "markdown",
   "metadata": {},
   "source": [
    "The elements that appears both in evens and integers."
   ]
  },
  {
   "cell_type": "code",
   "execution_count": 169,
   "metadata": {},
   "outputs": [
    {
     "data": {
      "text/plain": [
       "{0, 2, 4, 6, 8}"
      ]
     },
     "execution_count": 169,
     "metadata": {},
     "output_type": "execute_result"
    }
   ],
   "source": [
    "evens.intersection(integers)"
   ]
  },
  {
   "cell_type": "markdown",
   "metadata": {},
   "source": [
    "The elements that appears in evens or integers."
   ]
  },
  {
   "cell_type": "code",
   "execution_count": 170,
   "metadata": {},
   "outputs": [
    {
     "data": {
      "text/plain": [
       "{0, 1, 2, 3, 4, 5, 6, 7, 8, 9, 10, 12, 19}"
      ]
     },
     "execution_count": 170,
     "metadata": {},
     "output_type": "execute_result"
    }
   ],
   "source": [
    "evens.union(integers)"
   ]
  },
  {
   "cell_type": "markdown",
   "metadata": {},
   "source": [
    "## dictionary\n",
    "A dictionary is a set of keys with associated values. The key must be hashable, but the value can be any object. You might know this as a hash map or key-value pairs."
   ]
  },
  {
   "cell_type": "code",
   "execution_count": 171,
   "metadata": {},
   "outputs": [
    {
     "data": {
      "text/plain": [
       "{'sex': 'male', 'height': 6.1, 'age': 30}"
      ]
     },
     "execution_count": 171,
     "metadata": {},
     "output_type": "execute_result"
    }
   ],
   "source": [
    "someone = {'sex': 'male', 'height': 6.1, 'age': 30}\n",
    "someone"
   ]
  },
  {
   "cell_type": "code",
   "execution_count": 174,
   "metadata": {},
   "outputs": [
    {
     "name": "stdout",
     "output_type": "stream",
     "text": [
      "dict_keys(['sex', 'height', 'age'])\n",
      "dict_values(['male', 6.1, 30])\n"
     ]
    }
   ],
   "source": [
    "print (someone.keys())\n",
    "print (someone.values())"
   ]
  },
  {
   "cell_type": "code",
   "execution_count": 175,
   "metadata": {},
   "outputs": [
    {
     "data": {
      "text/plain": [
       "30"
      ]
     },
     "execution_count": 175,
     "metadata": {},
     "output_type": "execute_result"
    }
   ],
   "source": [
    "someone['age'] # index"
   ]
  },
  {
   "cell_type": "code",
   "execution_count": 176,
   "metadata": {},
   "outputs": [
    {
     "data": {
      "text/plain": [
       "dict_items([('sex', 'male'), ('height', 6.1), ('age', 30)])"
      ]
     },
     "execution_count": 176,
     "metadata": {},
     "output_type": "execute_result"
    }
   ],
   "source": [
    "# Convert to a list of tuples\n",
    "someone.items()"
   ]
  },
  {
   "cell_type": "code",
   "execution_count": 177,
   "metadata": {},
   "outputs": [
    {
     "data": {
      "text/plain": [
       "True"
      ]
     },
     "execution_count": 177,
     "metadata": {},
     "output_type": "execute_result"
    }
   ],
   "source": [
    "# Similar to set, dictionary is also unordered.\n",
    "\n",
    "someone1 = {'sex': 'male', 'age': 30}\n",
    "someone2 = {'age': 30, 'sex': 'male'}\n",
    "someone1 == someone2"
   ]
  },
  {
   "cell_type": "markdown",
   "metadata": {},
   "source": [
    "## dictionary comprehension"
   ]
  },
  {
   "cell_type": "code",
   "execution_count": 179,
   "metadata": {},
   "outputs": [
    {
     "data": {
      "text/plain": [
       "{0: 'Lisa', 1: 'Lisa', 2: 'Lisa', 3: 'Lisa'}"
      ]
     },
     "execution_count": 179,
     "metadata": {},
     "output_type": "execute_result"
    }
   ],
   "source": [
    "names = ['Mike','Tom','Dave','Lisa']\n",
    "\n",
    "names_dict = {i:n for i in range(len(names)) for n in names}\n",
    "names_dict"
   ]
  },
  {
   "cell_type": "code",
   "execution_count": null,
   "metadata": {},
   "outputs": [],
   "source": []
  },
  {
   "cell_type": "code",
   "execution_count": null,
   "metadata": {},
   "outputs": [],
   "source": []
  },
  {
   "cell_type": "code",
   "execution_count": null,
   "metadata": {},
   "outputs": [],
   "source": []
  },
  {
   "cell_type": "code",
   "execution_count": null,
   "metadata": {},
   "outputs": [],
   "source": []
  },
  {
   "cell_type": "code",
   "execution_count": null,
   "metadata": {},
   "outputs": [],
   "source": []
  },
  {
   "cell_type": "code",
   "execution_count": null,
   "metadata": {},
   "outputs": [],
   "source": []
  },
  {
   "cell_type": "code",
   "execution_count": null,
   "metadata": {},
   "outputs": [],
   "source": []
  },
  {
   "cell_type": "code",
   "execution_count": null,
   "metadata": {},
   "outputs": [],
   "source": []
  },
  {
   "cell_type": "markdown",
   "metadata": {},
   "source": [
    "# Control Flow"
   ]
  },
  {
   "cell_type": "markdown",
   "metadata": {},
   "source": [
    "# Conditional"
   ]
  },
  {
   "cell_type": "code",
   "execution_count": 82,
   "metadata": {},
   "outputs": [
    {
     "name": "stdout",
     "output_type": "stream",
     "text": [
      "x is odd and between 10 and 20\n"
     ]
    }
   ],
   "source": [
    "x = 13\n",
    "\n",
    "if x % 2 == 0:\n",
    "    print ('x is even')\n",
    "elif x < 10:\n",
    "    print ('x is odd and less than 10')\n",
    "elif x > 20:\n",
    "    print ('x is odd and greater than 20')\n",
    "else:\n",
    "    print ('x is odd and between 10 and 20')"
   ]
  },
  {
   "cell_type": "code",
   "execution_count": 81,
   "metadata": {},
   "outputs": [
    {
     "name": "stdout",
     "output_type": "stream",
     "text": [
      "x can not be divided by 2 or 3.\n"
     ]
    }
   ],
   "source": [
    "x = 13\n",
    "\n",
    "if x % 2 == 0: \n",
    "    if x % 3 == 0 :\n",
    "        print ('x can be divided by 2 and 3')\n",
    "    else:\n",
    "        print ('x can be divided by 2, but can not by 3.')\n",
    "else:\n",
    "    if x % 3 == 0 :\n",
    "        print ('x can be divided by 3, but can not by 2.')\n",
    "    else:\n",
    "        print ('x can not be divided by 2 or 3.')"
   ]
  },
  {
   "cell_type": "code",
   "execution_count": 83,
   "metadata": {},
   "outputs": [
    {
     "name": "stdout",
     "output_type": "stream",
     "text": [
      "x can not be divided by 2 or 3.\n"
     ]
    }
   ],
   "source": [
    "x = 13\n",
    "\n",
    "div2 = x % 2 == 0\n",
    "div3 = x % 3 == 0\n",
    "\n",
    "if div2 and div3: \n",
    "    print ('x can be divided by 2 and 3')\n",
    "elif div2 and not div3: \n",
    "    print ('x can be divided by 2, but can not by 3.')\n",
    "elif not div2 and div3: \n",
    "    print ('x can be divided by 3, but can not by 2.')\n",
    "else:\n",
    "    print ('x can not be divided by 2 or 3.')"
   ]
  },
  {
   "cell_type": "markdown",
   "metadata": {},
   "source": [
    "# Loops"
   ]
  },
  {
   "cell_type": "markdown",
   "metadata": {},
   "source": [
    "## for loop"
   ]
  },
  {
   "cell_type": "code",
   "execution_count": 11,
   "metadata": {},
   "outputs": [
    {
     "name": "stdout",
     "output_type": "stream",
     "text": [
      "0\n",
      "1\n",
      "2\n"
     ]
    }
   ],
   "source": [
    "for i in range(3):\n",
    "    print (i)"
   ]
  },
  {
   "cell_type": "markdown",
   "metadata": {},
   "source": [
    "## while loop"
   ]
  },
  {
   "cell_type": "code",
   "execution_count": 12,
   "metadata": {},
   "outputs": [
    {
     "name": "stdout",
     "output_type": "stream",
     "text": [
      "0\n",
      "1\n",
      "2\n"
     ]
    }
   ],
   "source": [
    "i = 0\n",
    "\n",
    "while i < 3:\n",
    "    print (i)\n",
    "    i += 1"
   ]
  },
  {
   "cell_type": "code",
   "execution_count": 116,
   "metadata": {},
   "outputs": [
    {
     "data": {
      "text/plain": [
       "10.0"
      ]
     },
     "execution_count": 116,
     "metadata": {},
     "output_type": "execute_result"
    }
   ],
   "source": [
    "def binarySearchSquareRoot(x, eps = 1e-8):\n",
    "    start = 0\n",
    "    end = x\n",
    "    mid = (start + end) / 2.0\n",
    "    while abs(mid ** 2 - x) >= eps:\n",
    "        if mid**2 > x:\n",
    "            end = mid\n",
    "        else:\n",
    "            start = mid\n",
    "        mid = (start + end) / 2.0\n",
    "    return mid\n",
    "\n",
    "binarySearchSquareRoot(100, 1e-15)"
   ]
  },
  {
   "cell_type": "markdown",
   "metadata": {},
   "source": [
    "# Exceptions\n",
    "\n",
    "Another flow control tool is the exception. They are used to indicate an unusual condition that needs to be handled higher up on the stack.\n"
   ]
  },
  {
   "cell_type": "code",
   "execution_count": 117,
   "metadata": {},
   "outputs": [
    {
     "ename": "ZeroDivisionError",
     "evalue": "division by zero",
     "output_type": "error",
     "traceback": [
      "\u001b[0;31m---------------------------------------------------------------------------\u001b[0m",
      "\u001b[0;31mZeroDivisionError\u001b[0m                         Traceback (most recent call last)",
      "\u001b[0;32m<ipython-input-117-bc1dcd4aac46>\u001b[0m in \u001b[0;36m<module>\u001b[0;34m\u001b[0m\n\u001b[1;32m      1\u001b[0m \u001b[0;31m# Division by 0 throws an exception(ZeroDivisionError).\u001b[0m\u001b[0;34m\u001b[0m\u001b[0;34m\u001b[0m\u001b[0m\n\u001b[1;32m      2\u001b[0m \u001b[0;34m\u001b[0m\u001b[0m\n\u001b[0;32m----> 3\u001b[0;31m \u001b[0;36m1\u001b[0m \u001b[0;34m/\u001b[0m \u001b[0;36m0\u001b[0m\u001b[0;34m\u001b[0m\u001b[0m\n\u001b[0m",
      "\u001b[0;31mZeroDivisionError\u001b[0m: division by zero"
     ]
    }
   ],
   "source": [
    "# Division by 0 throws an exception(ZeroDivisionError).\n",
    "\n",
    "1 / 0"
   ]
  },
  {
   "cell_type": "code",
   "execution_count": 118,
   "metadata": {},
   "outputs": [
    {
     "ename": "TypeError",
     "evalue": "can only concatenate str (not \"int\") to str",
     "output_type": "error",
     "traceback": [
      "\u001b[0;31m---------------------------------------------------------------------------\u001b[0m",
      "\u001b[0;31mTypeError\u001b[0m                                 Traceback (most recent call last)",
      "\u001b[0;32m<ipython-input-118-2d201dde1907>\u001b[0m in \u001b[0;36m<module>\u001b[0;34m\u001b[0m\n\u001b[1;32m      1\u001b[0m \u001b[0;31m# Add up a string and a integer throws an exception(TypeError).\u001b[0m\u001b[0;34m\u001b[0m\u001b[0;34m\u001b[0m\u001b[0m\n\u001b[1;32m      2\u001b[0m \u001b[0;34m\u001b[0m\u001b[0m\n\u001b[0;32m----> 3\u001b[0;31m \u001b[0;34m'1'\u001b[0m \u001b[0;34m+\u001b[0m \u001b[0;36m2\u001b[0m\u001b[0;34m\u001b[0m\u001b[0m\n\u001b[0m",
      "\u001b[0;31mTypeError\u001b[0m: can only concatenate str (not \"int\") to str"
     ]
    }
   ],
   "source": [
    "# Add up a string and a integer throws an exception(TypeError).\n",
    "\n",
    "'1' + 2"
   ]
  },
  {
   "cell_type": "code",
   "execution_count": 120,
   "metadata": {},
   "outputs": [
    {
     "ename": "SyntaxError",
     "evalue": "invalid syntax (<ipython-input-120-cfd30a6f88e8>, line 2)",
     "output_type": "error",
     "traceback": [
      "\u001b[0;36m  File \u001b[0;32m\"<ipython-input-120-cfd30a6f88e8>\"\u001b[0;36m, line \u001b[0;32m2\u001b[0m\n\u001b[0;31m    if  1+2\u001b[0m\n\u001b[0m           ^\u001b[0m\n\u001b[0;31mSyntaxError\u001b[0m\u001b[0;31m:\u001b[0m invalid syntax\n"
     ]
    }
   ],
   "source": [
    "# Wrong syntax throws an exception(SyntaxError).\n",
    "\n",
    "if  1+2"
   ]
  },
  {
   "cell_type": "code",
   "execution_count": 122,
   "metadata": {},
   "outputs": [
    {
     "ename": "NameError",
     "evalue": "name 'undefined_var' is not defined",
     "output_type": "error",
     "traceback": [
      "\u001b[0;31m---------------------------------------------------------------------------\u001b[0m",
      "\u001b[0;31mNameError\u001b[0m                                 Traceback (most recent call last)",
      "\u001b[0;32m<ipython-input-122-f40b5eab4546>\u001b[0m in \u001b[0;36m<module>\u001b[0;34m\u001b[0m\n\u001b[1;32m      1\u001b[0m \u001b[0;31m# Variable name not found throws an exception(NameError).\u001b[0m\u001b[0;34m\u001b[0m\u001b[0;34m\u001b[0m\u001b[0m\n\u001b[0;32m----> 2\u001b[0;31m \u001b[0mundefined_var\u001b[0m\u001b[0;34m\u001b[0m\u001b[0m\n\u001b[0m",
      "\u001b[0;31mNameError\u001b[0m: name 'undefined_var' is not defined"
     ]
    }
   ],
   "source": [
    "# Variable name not found throws an exception(NameError).\n",
    "\n",
    "undefined_var"
   ]
  },
  {
   "cell_type": "markdown",
   "metadata": {},
   "source": [
    "# Try and Except"
   ]
  },
  {
   "cell_type": "code",
   "execution_count": 126,
   "metadata": {},
   "outputs": [
    {
     "ename": "Exception",
     "evalue": "Can not divide 0 you fool!",
     "output_type": "error",
     "traceback": [
      "\u001b[0;31m---------------------------------------------------------------------------\u001b[0m",
      "\u001b[0;31mZeroDivisionError\u001b[0m                         Traceback (most recent call last)",
      "\u001b[0;32m<ipython-input-126-3dc724a6b8e5>\u001b[0m in \u001b[0;36m<module>\u001b[0;34m\u001b[0m\n\u001b[1;32m      1\u001b[0m \u001b[0;32mtry\u001b[0m\u001b[0;34m:\u001b[0m\u001b[0;34m\u001b[0m\u001b[0m\n\u001b[0;32m----> 2\u001b[0;31m     \u001b[0;36m1\u001b[0m \u001b[0;34m/\u001b[0m \u001b[0;36m0\u001b[0m\u001b[0;34m\u001b[0m\u001b[0m\n\u001b[0m\u001b[1;32m      3\u001b[0m \u001b[0;32mexcept\u001b[0m\u001b[0;34m:\u001b[0m\u001b[0;34m\u001b[0m\u001b[0m\n",
      "\u001b[0;31mZeroDivisionError\u001b[0m: division by zero",
      "\nDuring handling of the above exception, another exception occurred:\n",
      "\u001b[0;31mException\u001b[0m                                 Traceback (most recent call last)",
      "\u001b[0;32m<ipython-input-126-3dc724a6b8e5>\u001b[0m in \u001b[0;36m<module>\u001b[0;34m\u001b[0m\n\u001b[1;32m      2\u001b[0m     \u001b[0;36m1\u001b[0m \u001b[0;34m/\u001b[0m \u001b[0;36m0\u001b[0m\u001b[0;34m\u001b[0m\u001b[0m\n\u001b[1;32m      3\u001b[0m \u001b[0;32mexcept\u001b[0m\u001b[0;34m:\u001b[0m\u001b[0;34m\u001b[0m\u001b[0m\n\u001b[0;32m----> 4\u001b[0;31m     \u001b[0;32mraise\u001b[0m  \u001b[0mException\u001b[0m\u001b[0;34m(\u001b[0m\u001b[0;34m'Can not divide 0 you fool!'\u001b[0m\u001b[0;34m)\u001b[0m\u001b[0;34m\u001b[0m\u001b[0m\n\u001b[0m",
      "\u001b[0;31mException\u001b[0m: Can not divide 0 you fool!"
     ]
    }
   ],
   "source": [
    "try:\n",
    "    1 / 0\n",
    "except:\n",
    "    raise  Exception('Can not divide 0 you fool!')"
   ]
  },
  {
   "cell_type": "code",
   "execution_count": 129,
   "metadata": {},
   "outputs": [
    {
     "name": "stdout",
     "output_type": "stream",
     "text": [
      "Can not divide 0 you fool!\n",
      "hi, I keep running!\n"
     ]
    }
   ],
   "source": [
    "try:\n",
    "    1 / 0\n",
    "except:\n",
    "    print ('Can not divide 0 you fool!')\n",
    "\n",
    "print ('hi, I keep running!')"
   ]
  },
  {
   "cell_type": "markdown",
   "metadata": {},
   "source": [
    "We can also deal with each particular type of exception. We have seen these exceptions:\n",
    "\n",
    "- **SyntaxError:** can’t parse program\n",
    "- **NameError:** name not found\n",
    "- **TypeError:** operand doesn’t have correct type\n",
    "- **ZeroDivisionError:** integer division or modulo by zero."
   ]
  },
  {
   "cell_type": "code",
   "execution_count": 132,
   "metadata": {},
   "outputs": [],
   "source": [
    "def divide(x, y):\n",
    "    try:\n",
    "        result =  x / y\n",
    "    except ZeroDivisionError:\n",
    "        result = None\n",
    "    except TypeError:\n",
    "        result = divide(float(x), float(y))\n",
    "    return result"
   ]
  },
  {
   "cell_type": "code",
   "execution_count": 133,
   "metadata": {},
   "outputs": [
    {
     "name": "stdout",
     "output_type": "stream",
     "text": [
      "None\n",
      "3.0\n",
      "3.0\n"
     ]
    }
   ],
   "source": [
    "print (divide(3, 0))\n",
    "print (divide(3, 1))\n",
    "print (divide(3, '1'))"
   ]
  },
  {
   "cell_type": "markdown",
   "metadata": {},
   "source": [
    "Other extensions to try:\n",
    "\n",
    "- **else:** executed when execution of associated try body completes with no exceptions.\n",
    "- **finally:** always run."
   ]
  },
  {
   "cell_type": "code",
   "execution_count": 138,
   "metadata": {},
   "outputs": [],
   "source": [
    "def divide2(x, y):\n",
    "    try:\n",
    "        result =  x / y\n",
    "    except ZeroDivisionError:\n",
    "        result = None\n",
    "    except TypeError:\n",
    "        result = divide2(float(x), float(y))\n",
    "    else:\n",
    "        print (\"result is\", result)\n",
    "    finally:\n",
    "        print (\"done!\")\n",
    "        return result"
   ]
  },
  {
   "cell_type": "code",
   "execution_count": 139,
   "metadata": {},
   "outputs": [
    {
     "name": "stdout",
     "output_type": "stream",
     "text": [
      "result is 2.0\n",
      "done!\n",
      "2.0\n"
     ]
    }
   ],
   "source": [
    "print (divide2(2, 1))"
   ]
  },
  {
   "cell_type": "code",
   "execution_count": 140,
   "metadata": {},
   "outputs": [
    {
     "name": "stdout",
     "output_type": "stream",
     "text": [
      "done!\n",
      "None\n"
     ]
    }
   ],
   "source": [
    "print (divide2(2, 0))"
   ]
  },
  {
   "cell_type": "code",
   "execution_count": 141,
   "metadata": {},
   "outputs": [
    {
     "name": "stdout",
     "output_type": "stream",
     "text": [
      "result is 2.0\n",
      "done!\n",
      "done!\n",
      "2.0\n"
     ]
    }
   ],
   "source": [
    "print (divide2(2, '1'))"
   ]
  },
  {
   "cell_type": "code",
   "execution_count": null,
   "metadata": {},
   "outputs": [],
   "source": []
  },
  {
   "cell_type": "code",
   "execution_count": null,
   "metadata": {},
   "outputs": [],
   "source": []
  },
  {
   "cell_type": "code",
   "execution_count": null,
   "metadata": {},
   "outputs": [],
   "source": []
  },
  {
   "cell_type": "code",
   "execution_count": null,
   "metadata": {},
   "outputs": [],
   "source": []
  },
  {
   "cell_type": "markdown",
   "metadata": {},
   "source": [
    "## Python Keywords"
   ]
  },
  {
   "cell_type": "code",
   "execution_count": 202,
   "metadata": {},
   "outputs": [
    {
     "data": {
      "text/plain": [
       "['False',\n",
       " 'None',\n",
       " 'True',\n",
       " 'and',\n",
       " 'as',\n",
       " 'assert',\n",
       " 'async',\n",
       " 'await',\n",
       " 'break',\n",
       " 'class',\n",
       " 'continue',\n",
       " 'def',\n",
       " 'del',\n",
       " 'elif',\n",
       " 'else',\n",
       " 'except',\n",
       " 'finally',\n",
       " 'for',\n",
       " 'from',\n",
       " 'global',\n",
       " 'if',\n",
       " 'import',\n",
       " 'in',\n",
       " 'is',\n",
       " 'lambda',\n",
       " 'nonlocal',\n",
       " 'not',\n",
       " 'or',\n",
       " 'pass',\n",
       " 'raise',\n",
       " 'return',\n",
       " 'try',\n",
       " 'while',\n",
       " 'with',\n",
       " 'yield']"
      ]
     },
     "execution_count": 202,
     "metadata": {},
     "output_type": "execute_result"
    }
   ],
   "source": [
    "import keyword\n",
    "keyword.kwlist"
   ]
  }
 ],
 "metadata": {
  "kernelspec": {
   "display_name": "Python 3",
   "language": "python",
   "name": "python3"
  },
  "language_info": {
   "codemirror_mode": {
    "name": "ipython",
    "version": 3
   },
   "file_extension": ".py",
   "mimetype": "text/x-python",
   "name": "python",
   "nbconvert_exporter": "python",
   "pygments_lexer": "ipython3",
   "version": "3.7.0"
  }
 },
 "nbformat": 4,
 "nbformat_minor": 2
}
