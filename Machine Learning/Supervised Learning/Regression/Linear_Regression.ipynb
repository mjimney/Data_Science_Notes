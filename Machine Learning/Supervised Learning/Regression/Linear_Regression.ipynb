{
 "cells": [
  {
   "cell_type": "code",
   "execution_count": null,
   "metadata": {},
   "outputs": [],
   "source": []
  },
  {
   "cell_type": "markdown",
   "metadata": {},
   "source": [
    "# Basic Syntax"
   ]
  },
  {
   "cell_type": "code",
   "execution_count": 19,
   "metadata": {},
   "outputs": [
    {
     "name": "stdout",
     "output_type": "stream",
     "text": [
      "The coefficient is:  [0.11801963]\n",
      "The intercept is:    -0.3706514152728841\n",
      "Prediction for 6.5:  [0.39647619]\n"
     ]
    }
   ],
   "source": [
    "import numpy as np\n",
    "from sklearn import linear_model\n",
    "\n",
    "x = np.array(range(1, 11)).reshape(10, 1)\n",
    "y = np.random.normal(0, 1, 10)\n",
    "\n",
    "clf = linear_model.LinearRegression()\n",
    "clf.fit(x, y)\n",
    "\n",
    "pred = clf.predict([[6.5]])\n",
    "\n",
    "print (\"The coefficient is: \", clf.coef_)\n",
    "print (\"The intercept is:   \", clf.intercept_)\n",
    "print (\"Prediction for 6.5: \", pred)\n",
    "\n"
   ]
  }
 ],
 "metadata": {
  "kernelspec": {
   "display_name": "Python 3",
   "language": "python",
   "name": "python3"
  },
  "language_info": {
   "codemirror_mode": {
    "name": "ipython",
    "version": 3
   },
   "file_extension": ".py",
   "mimetype": "text/x-python",
   "name": "python",
   "nbconvert_exporter": "python",
   "pygments_lexer": "ipython3",
   "version": "3.7.0"
  }
 },
 "nbformat": 4,
 "nbformat_minor": 2
}
