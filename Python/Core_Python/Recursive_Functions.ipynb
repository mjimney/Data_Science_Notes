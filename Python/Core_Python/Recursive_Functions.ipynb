{
 "cells": [
  {
   "cell_type": "code",
   "execution_count": null,
   "metadata": {},
   "outputs": [],
   "source": []
  },
  {
   "cell_type": "markdown",
   "metadata": {},
   "source": [
    "# Fibonacci\n",
    "Have you ever heard the Fibonacci sequence?\n",
    "\n",
    "The Fibonacci sequence is a sequence of numbers that satisfies:\n",
    "\n",
    "- F(0)=1 \n",
    "- F(1)=1 \n",
    "- F(n)=F(n−1)+F(n−2)  for  n≥2 \n",
    "Here is an example:\n",
    "\n",
    "1,1,2,3,5,8,13,21,34,55,89,144…  \n",
    "Let's write a function to calculate the value of  n th Fibonacci number."
   ]
  },
  {
   "cell_type": "code",
   "execution_count": 1,
   "metadata": {},
   "outputs": [],
   "source": [
    "def fib(n):\n",
    "    \"\"\"Calculates nth Fibonacci number\"\"\"\n",
    "    if n == 0:\n",
    "        return 1\n",
    "    elif n == 1:\n",
    "        return 1\n",
    "    else:\n",
    "        return fib(n - 1) + fib(n - 2)"
   ]
  },
  {
   "cell_type": "markdown",
   "metadata": {},
   "source": [
    "In this function, we first check whether the argument  n  is 0 or 1, if not, we call this function itself to calculate. This technology is called Recursion.\n",
    "\n",
    "The idea of recursive algorithm is:\n",
    "\n",
    "- Reduce a problem to a simpler (or smaller) version of the same problem, plus some simple computations\n",
    "\n",
    "- Keep reducing until reach a simple case that can be solved directly.\n",
    "\n",
    "In this Fibonacci case, the simple case is when  n=0  or  n=1  the function return 1 directly, otherwise we can use the formula  F(n)=F(n−1)+F(n−2)  to reduce it until  n  equals to 0 or 1.\n",
    "\n",
    "At last, let's check our function to see whether it works or not."
   ]
  },
  {
   "cell_type": "code",
   "execution_count": 5,
   "metadata": {},
   "outputs": [
    {
     "name": "stdout",
     "output_type": "stream",
     "text": [
      "1\n",
      "8\n",
      "89\n",
      "987\n"
     ]
    }
   ],
   "source": [
    "print (fib(1))\n",
    "print (fib(5))\n",
    "print (fib(10))\n",
    "print (fib(15))"
   ]
  },
  {
   "cell_type": "code",
   "execution_count": null,
   "metadata": {},
   "outputs": [],
   "source": []
  },
  {
   "cell_type": "code",
   "execution_count": null,
   "metadata": {},
   "outputs": [],
   "source": []
  }
 ],
 "metadata": {
  "kernelspec": {
   "display_name": "Python 3",
   "language": "python",
   "name": "python3"
  },
  "language_info": {
   "codemirror_mode": {
    "name": "ipython",
    "version": 3
   },
   "file_extension": ".py",
   "mimetype": "text/x-python",
   "name": "python",
   "nbconvert_exporter": "python",
   "pygments_lexer": "ipython3",
   "version": "3.7.0"
  }
 },
 "nbformat": 4,
 "nbformat_minor": 2
}
